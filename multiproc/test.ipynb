{
 "cells": [
  {
   "cell_type": "code",
   "execution_count": null,
   "metadata": {},
   "outputs": [
    {
     "name": "stdout",
     "output_type": "stream",
     "text": [
      "7.048128843307495\n"
     ]
    }
   ],
   "source": [
    "import time \n",
    "from joblib import Parallel,delayed \n",
    "import math \n",
    "\n",
    "t1 = time.time() \n",
    "\n",
    "# 2 Core \n",
    "r1 = Parallel(n_jobs=1)(delayed(math.factorial) (int(math.sqrt(i**3))) for i in range(100,1000)) \n",
    "\n",
    "r = [math.factorial(int(math.sqrt(i**3))) for i in range(100,1000)] \n",
    "\n",
    "t2 = time.time() \n",
    "\n",
    "print(t2-t1) \n"
   ]
  },
  {
   "cell_type": "code",
   "execution_count": 4,
   "metadata": {},
   "outputs": [],
   "source": [
    "def square(num):\n",
    "    return num ** 2"
   ]
  },
  {
   "cell_type": "code",
   "execution_count": 7,
   "metadata": {},
   "outputs": [
    {
     "name": "stdout",
     "output_type": "stream",
     "text": [
      "17.36774182319641\n"
     ]
    }
   ],
   "source": [
    "t1 = time.time() \n",
    "r3 = [square(num) for num in range(100000000)]\n",
    "t2 = time.time()\n",
    "print(t2-t1) "
   ]
  },
  {
   "cell_type": "code",
   "execution_count": null,
   "metadata": {},
   "outputs": [],
   "source": [
    "t1 = time.time() \n",
    "r3 = Parallel(n_jobs=-1)(delayed(square) (num) for num in range(100000000)) \n",
    "t2 = time.time()\n",
    "print(t2-t1) "
   ]
  }
 ],
 "metadata": {
  "kernelspec": {
   "display_name": ".venv",
   "language": "python",
   "name": "python3"
  },
  "language_info": {
   "codemirror_mode": {
    "name": "ipython",
    "version": 3
   },
   "file_extension": ".py",
   "mimetype": "text/x-python",
   "name": "python",
   "nbconvert_exporter": "python",
   "pygments_lexer": "ipython3",
   "version": "3.12.8"
  }
 },
 "nbformat": 4,
 "nbformat_minor": 2
}
